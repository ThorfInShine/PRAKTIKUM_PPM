{
  "nbformat": 4,
  "nbformat_minor": 0,
  "metadata": {
    "colab": {
      "provenance": []
    },
    "kernelspec": {
      "name": "python3",
      "display_name": "Python 3"
    }
  },
  "cells": [
    {
      "cell_type": "markdown",
      "metadata": {
        "id": "eChyuFZGHlV2"
      },
      "source": [
        "# Praktikum Pengantar Pembelajaran Mesin\n",
        "\n",
        "\n",
        "---\n",
        "## Bab 1. Tutorial Python untuk Pengantar Pembelajaran Mesin\n",
        "\n",
        "\n"
      ]
    },
    {
      "cell_type": "markdown",
      "metadata": {
        "id": "af6nAwCvOt-j"
      },
      "source": [
        "Tuliskan Nama, NIM, dan kelas Anda:\n",
        "\n",
        "Nama  :\n",
        "\n",
        "NIM   :\n",
        "\n",
        "Kelas :"
      ]
    },
    {
      "cell_type": "markdown",
      "metadata": {
        "id": "_zKditlRH5Qw"
      },
      "source": [
        "\n",
        "\n",
        "### 1) Cek Library\n",
        "Cek apakah library-library berikut telah terinstall :\n",
        "\n",
        "\n",
        "1.   Numpy\n",
        "2.   Pandas\n",
        "3.   Matplotlib\n",
        "4.   Scipy\n",
        "5.   Scikit-learn\n",
        "\n",
        "Tuliskan kode pada cell di bawah ini untuk mengecek apakah library tersebut telah terinstall\n",
        "\n"
      ]
    },
    {
      "cell_type": "code",
      "metadata": {
        "id": "89hItp7MHrZ0"
      },
      "source": [],
      "execution_count": null,
      "outputs": []
    },
    {
      "cell_type": "markdown",
      "metadata": {
        "id": "gBy4OpUNUtMR"
      },
      "source": [
        "### 2) Upload **kontak.csv**\n",
        "\n",
        "Tuliskan kode pada cell di bawah ini untuk mengunggah berkas **kontak.csv**"
      ]
    },
    {
      "cell_type": "code",
      "metadata": {
        "id": "rZgDicY_I44C"
      },
      "source": [
        "\n"
      ],
      "execution_count": null,
      "outputs": []
    },
    {
      "cell_type": "code",
      "metadata": {
        "id": "wd71VBKlVOoJ",
        "outputId": "74544314-a14d-48c4-f368-eba1f7a8016c",
        "colab": {
          "base_uri": "https://localhost:8080/",
          "height": 36
        }
      },
      "source": [
        "!ls\n"
      ],
      "execution_count": null,
      "outputs": [
        {
          "output_type": "stream",
          "text": [
            "kontak.csv  sample_data\n"
          ],
          "name": "stdout"
        }
      ]
    },
    {
      "cell_type": "markdown",
      "metadata": {
        "id": "kzEw4PqCu0b3"
      },
      "source": [
        "### 3) Download iris.csv\n",
        "\n",
        "Tuliskan code pada cell di bawah ini untuk mendownload berkas **iris.csv**"
      ]
    },
    {
      "cell_type": "code",
      "metadata": {
        "id": "FFzUYNOZpZiq"
      },
      "source": [],
      "execution_count": null,
      "outputs": []
    },
    {
      "cell_type": "code",
      "metadata": {
        "id": "P31dEJK_vSEs",
        "outputId": "17b5b693-323d-4cab-aa93-fdb38bd1e686",
        "colab": {
          "base_uri": "https://localhost:8080/",
          "height": 36
        }
      },
      "source": [
        "!ls"
      ],
      "execution_count": null,
      "outputs": [
        {
          "output_type": "stream",
          "text": [
            "iris.csv  kontak.csv  sample_data\n"
          ],
          "name": "stdout"
        }
      ]
    },
    {
      "cell_type": "markdown",
      "metadata": {
        "id": "LOiq9aBN4LNc"
      },
      "source": [
        "### 4) Membaca format CSV\n",
        "\n",
        "File CSV dapat diuraikan (parsing) ke dalam bentuk list, dictionary, atau dataframe.\n",
        "\n",
        "Tuliskan code pada cell di bawah ini untuk melakukan parsing csv ke dalam bentuk list"
      ]
    },
    {
      "cell_type": "code",
      "metadata": {
        "id": "r5OMx0YnvUPm"
      },
      "source": [],
      "execution_count": null,
      "outputs": []
    },
    {
      "cell_type": "markdown",
      "metadata": {
        "id": "O3-1HLGr6Ayv"
      },
      "source": [
        "Cek apakah fungsi csv_list dapat berjalan dengan baik"
      ]
    },
    {
      "cell_type": "code",
      "metadata": {
        "id": "cjcy-_D15-he"
      },
      "source": [],
      "execution_count": null,
      "outputs": []
    },
    {
      "cell_type": "markdown",
      "metadata": {
        "id": "MweusC_W-KQD"
      },
      "source": [
        "Tuliskan code pada cell di bawah ini untuk melakukan parsing csv ke dalam bentuk dictionary"
      ]
    },
    {
      "cell_type": "code",
      "metadata": {
        "id": "iG_30QQR6VU5"
      },
      "source": [],
      "execution_count": null,
      "outputs": []
    },
    {
      "cell_type": "markdown",
      "metadata": {
        "id": "7RjbVsWy-jZK"
      },
      "source": [
        "Cek apakah fungsi csv_dict dapat berjalan dengan baik\n",
        "\n",
        "\n"
      ]
    },
    {
      "cell_type": "code",
      "metadata": {
        "id": "rwGUmNqv-hft"
      },
      "source": [],
      "execution_count": null,
      "outputs": []
    },
    {
      "cell_type": "markdown",
      "metadata": {
        "id": "yIBNbxYw_CSu"
      },
      "source": [
        "Gunakan **pandas** untuk mengambil data dari **iris.csv**. Fungsi yang digunakan adalah **read_csv**. Tuliskan kode pada cell di bawah ini"
      ]
    },
    {
      "cell_type": "code",
      "metadata": {
        "id": "85JwM3c5-s2W"
      },
      "source": [],
      "execution_count": null,
      "outputs": []
    },
    {
      "cell_type": "markdown",
      "metadata": {
        "id": "1jqcBIGIOdcH"
      },
      "source": [
        "cek sebagian isi **iris_df** menggunakan properti **head**"
      ]
    },
    {
      "cell_type": "code",
      "metadata": {
        "id": "lmuBZqXXObpV"
      },
      "source": [],
      "execution_count": null,
      "outputs": []
    },
    {
      "cell_type": "markdown",
      "metadata": {
        "id": "BBRAM1ORRf-5"
      },
      "source": [
        "### 5) Meringkas Kumpulan Data\n"
      ]
    },
    {
      "cell_type": "markdown",
      "metadata": {
        "id": "y2JOLhX0XHhM"
      },
      "source": [
        "Tampilkan ringkasan data, meliputi :\n",
        "\n",
        "\n",
        "1.   Menampilkan 6 data pertama\n",
        "2.   Menampilkan ukuran dataframe\n",
        "3.   Menampilkan distribusi data\n",
        "4.   Menampilkan banyak data per kelas\n",
        "\n"
      ]
    },
    {
      "cell_type": "code",
      "metadata": {
        "id": "_2v_yG4cOltw"
      },
      "source": [],
      "execution_count": null,
      "outputs": []
    },
    {
      "cell_type": "markdown",
      "metadata": {
        "id": "xfVBv-IDaDE4"
      },
      "source": [
        "### 6) Visualisasi Data\n",
        "Tampilkan plot box dari dataset iris yang berada pada dataframe **iris_df**"
      ]
    },
    {
      "cell_type": "code",
      "metadata": {
        "id": "-Xzgy25xV0JC"
      },
      "source": [],
      "execution_count": null,
      "outputs": []
    },
    {
      "cell_type": "markdown",
      "metadata": {
        "id": "qGDBq46ZzDSp"
      },
      "source": [
        "Tampilkan histogram dari setiap variabel pada dataframe **iris_df**"
      ]
    },
    {
      "cell_type": "code",
      "metadata": {
        "id": "nXV6S498yUfz"
      },
      "source": [],
      "execution_count": null,
      "outputs": []
    },
    {
      "cell_type": "markdown",
      "metadata": {
        "id": "C3jAdjdE0X-j"
      },
      "source": [
        "Tampilkan scatter plot untuk melihat interaksi antar variabel"
      ]
    },
    {
      "cell_type": "code",
      "metadata": {
        "id": "cE8l053ozOJD"
      },
      "source": [],
      "execution_count": null,
      "outputs": []
    },
    {
      "cell_type": "markdown",
      "metadata": {
        "id": "GJJESQ631OZS"
      },
      "source": [
        "## TUGAS\n",
        "\n",
        "1.   Download Glass dataset dari https://dataset-ppm.s3.amazonaws.com/glass.csv\n",
        "2.   Masukkan data Glass ke dataframe menggunakan Pandas.\n",
        "3.   Tampilkan 10 data pertama\n",
        "4.   Hitung rata-rata nilai per variabel untuk setiap data\n",
        "5.   Hitung rata-rata nilai per variabel untuk setiap data dikelompokkan berdasarkan Type\n",
        "6.  Buatlah plot bertipe 'line' untuk masing-masing variabelnya. Referensi : [Pandas Plot](https://pandas.pydata.org/pandas-docs/stable/reference/api/pandas.DataFrame.plot.html)\n",
        "\n"
      ]
    },
    {
      "cell_type": "code",
      "metadata": {
        "id": "mBfojheq0jM5"
      },
      "source": [],
      "execution_count": null,
      "outputs": []
    },
    {
      "cell_type": "code",
      "metadata": {
        "id": "FimmFvo85fnY"
      },
      "source": [],
      "execution_count": null,
      "outputs": []
    },
    {
      "cell_type": "code",
      "metadata": {
        "id": "bg9-eG0X5xlZ"
      },
      "source": [],
      "execution_count": null,
      "outputs": []
    },
    {
      "cell_type": "code",
      "metadata": {
        "id": "HgAwj4wn50d7"
      },
      "source": [],
      "execution_count": null,
      "outputs": []
    },
    {
      "cell_type": "code",
      "metadata": {
        "id": "w88aOlh06c7E"
      },
      "source": [],
      "execution_count": null,
      "outputs": []
    },
    {
      "cell_type": "code",
      "metadata": {
        "id": "EIivgxEc6jyY"
      },
      "source": [],
      "execution_count": null,
      "outputs": []
    },
    {
      "cell_type": "code",
      "metadata": {
        "id": "MOY3hy757TKv"
      },
      "source": [],
      "execution_count": null,
      "outputs": []
    }
  ]
}