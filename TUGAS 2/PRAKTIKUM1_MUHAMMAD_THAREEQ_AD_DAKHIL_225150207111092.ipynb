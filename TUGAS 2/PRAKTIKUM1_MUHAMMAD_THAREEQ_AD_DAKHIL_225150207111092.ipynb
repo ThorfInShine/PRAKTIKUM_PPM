{
 "nbformat": 4,
 "nbformat_minor": 0,
 "metadata": {
  "colab": {
   "provenance": []
  },
  "kernelspec": {
   "name": "python3",
   "language": "python",
   "display_name": "Python 3 (ipykernel)"
  }
 },
 "cells": [
  {
   "cell_type": "markdown",
   "metadata": {
    "id": "4p35D_MajUhy"
   },
   "source": [
    "# Praktikum Pengantar Pembelajaran Mesin\n",
    "\n",
    "\n",
    "---\n",
    "## Bab 2. Pemrosesan Awal Data\n",
    "\n",
    "\n"
   ]
  },
  {
   "cell_type": "markdown",
   "metadata": {
    "id": "Ay3Q_EtXsn77"
   },
   "source": [
    "\n",
    "\n",
    "### 1) Import Data"
   ]
  },
  {
   "cell_type": "markdown",
   "metadata": {
    "id": "l_iBG4pVjIZb"
   },
   "source": [
    "Unduh dataset yang akan digunakan pada praktikum kali ini. Anda dapat menggunakan aplikasi **wget** untuk mendowload dataset dan menyimpannya dalam Google Colab. Jalankan cell di bawah ini untuk mengunduh dataset"
   ]
  },
  {
   "cell_type": "code",
   "metadata": {
    "id": "2zlUIUTidO13",
    "outputId": "d4e4ac04-b600-45eb-a70f-61bf3f90801c",
    "colab": {
     "base_uri": "https://localhost:8080/"
    },
    "ExecuteTime": {
     "end_time": "2024-03-14T14:24:17.318678500Z",
     "start_time": "2024-03-14T14:24:15.583829300Z"
    }
   },
   "source": [
    "! wget https://dataset-ppm.s3.amazonaws.com/iris_missing.csv"
   ],
   "execution_count": 1,
   "outputs": [
    {
     "name": "stderr",
     "output_type": "stream",
     "text": [
      "--2024-03-14 21:24:15--  https://dataset-ppm.s3.amazonaws.com/iris_missing.csv\n",
      "Resolving dataset-ppm.s3.amazonaws.com (dataset-ppm.s3.amazonaws.com)... 52.219.104.124, 52.219.109.156, 52.219.107.68, ...\n",
      "Connecting to dataset-ppm.s3.amazonaws.com (dataset-ppm.s3.amazonaws.com)|52.219.104.124|:443... connected.\n",
      "HTTP request sent, awaiting response... 200 OK\n",
      "Length: 4593 (4,5K) [text/csv]\n",
      "Saving to: 'iris_missing.csv'\n",
      "\n",
      "     0K ....                                                  100% 8,42M=0,001s\n",
      "\n",
      "2024-03-14 21:24:17 (8,42 MB/s) - 'iris_missing.csv' saved [4593/4593]\n",
      "\n"
     ]
    }
   ]
  },
  {
   "cell_type": "markdown",
   "metadata": {
    "id": "qS98ITZYj_EQ"
   },
   "source": [
    "Setelah dataset berhasil diunduh, langkah berikutnya adalah membaca dataset dengan memanfaatkan fungsi [readcsv](https://pandas.pydata.org/pandas-docs/stable/reference/api/pandas.read_csv.html) dari library pandas. Lakukan pembacaan berkas csv menggunakan fungsi **readcsv**. Jangan lupa untuk melakukan import library pandas terlebih dahulu"
   ]
  },
  {
   "cell_type": "code",
   "metadata": {
    "id": "5TtrzOrCe0do",
    "ExecuteTime": {
     "end_time": "2024-03-14T15:41:22.456427500Z",
     "start_time": "2024-03-14T15:41:22.026724900Z"
    }
   },
   "source": [
    "import pandas as pd\n",
    "import numpy as np\n",
    "data = pd.read_csv('iris_missing.csv')"
   ],
   "execution_count": 2,
   "outputs": [
    {
     "name": "stderr",
     "output_type": "stream",
     "text": [
      "C:\\Users\\acern\\AppData\\Local\\Temp\\ipykernel_30192\\4279088670.py:1: DeprecationWarning: \n",
      "Pyarrow will become a required dependency of pandas in the next major release of pandas (pandas 3.0),\n",
      "(to allow more performant data types, such as the Arrow string type, and better interoperability with other libraries)\n",
      "but was not found to be installed on your system.\n",
      "If this would cause problems for you,\n",
      "please provide us feedback at https://github.com/pandas-dev/pandas/issues/54466\n",
      "        \n",
      "  import pandas as pd\n"
     ]
    }
   ]
  },
  {
   "cell_type": "markdown",
   "metadata": {
    "id": "Fz2E1jyaseWv"
   },
   "source": [
    "Tampilkan beberapa baris dari dataset untuk mendapatkan informasi singkat mengenai isi data. Gunakan fungsi **head()** untuk menampilkan 5 data pertama."
   ]
  },
  {
   "cell_type": "code",
   "metadata": {
    "id": "3zIEJth2fB-d",
    "outputId": "e5341508-f76b-4706-8b33-b259728b5990",
    "colab": {
     "base_uri": "https://localhost:8080/",
     "height": 206
    },
    "ExecuteTime": {
     "end_time": "2024-03-14T15:41:25.152574100Z",
     "start_time": "2024-03-14T15:41:25.136566Z"
    }
   },
   "source": [
    "data.head(5)"
   ],
   "execution_count": 3,
   "outputs": [
    {
     "data": {
      "text/plain": "   sepal_length  sepal_width  petal_length  petal_width      Species\n0           5.1          3.5           1.4          0.2  Iris-setosa\n1           4.9          3.0           1.4          0.2  Iris-setosa\n2           0.0          3.2           1.3          0.2  Iris-setosa\n3           4.6          3.1           1.5          0.2  Iris-setosa\n4           5.0          3.6           1.4          0.2  Iris-setosa",
      "text/html": "<div>\n<style scoped>\n    .dataframe tbody tr th:only-of-type {\n        vertical-align: middle;\n    }\n\n    .dataframe tbody tr th {\n        vertical-align: top;\n    }\n\n    .dataframe thead th {\n        text-align: right;\n    }\n</style>\n<table border=\"1\" class=\"dataframe\">\n  <thead>\n    <tr style=\"text-align: right;\">\n      <th></th>\n      <th>sepal_length</th>\n      <th>sepal_width</th>\n      <th>petal_length</th>\n      <th>petal_width</th>\n      <th>Species</th>\n    </tr>\n  </thead>\n  <tbody>\n    <tr>\n      <th>0</th>\n      <td>5.1</td>\n      <td>3.5</td>\n      <td>1.4</td>\n      <td>0.2</td>\n      <td>Iris-setosa</td>\n    </tr>\n    <tr>\n      <th>1</th>\n      <td>4.9</td>\n      <td>3.0</td>\n      <td>1.4</td>\n      <td>0.2</td>\n      <td>Iris-setosa</td>\n    </tr>\n    <tr>\n      <th>2</th>\n      <td>0.0</td>\n      <td>3.2</td>\n      <td>1.3</td>\n      <td>0.2</td>\n      <td>Iris-setosa</td>\n    </tr>\n    <tr>\n      <th>3</th>\n      <td>4.6</td>\n      <td>3.1</td>\n      <td>1.5</td>\n      <td>0.2</td>\n      <td>Iris-setosa</td>\n    </tr>\n    <tr>\n      <th>4</th>\n      <td>5.0</td>\n      <td>3.6</td>\n      <td>1.4</td>\n      <td>0.2</td>\n      <td>Iris-setosa</td>\n    </tr>\n  </tbody>\n</table>\n</div>"
     },
     "execution_count": 3,
     "metadata": {},
     "output_type": "execute_result"
    }
   ]
  },
  {
   "cell_type": "markdown",
   "metadata": {
    "id": "tPbKFyGVs3Xs"
   },
   "source": [
    "Berdasarkan informasi dari fungsi **head()**, data iris yang\n",
    "digunakan mempunyai 4 fitur sebagai berikut :\n",
    "\n",
    "\n",
    "1.   sepal length\n",
    "2.   sepal width\n",
    "3.   petal length\n",
    "4.   petal width"
   ]
  },
  {
   "cell_type": "markdown",
   "metadata": {
    "id": "GhKSY9e0t4gf"
   },
   "source": [
    "### 2) Missing value dan imputasi data\n",
    "\n",
    "\n",
    "\n",
    "\n",
    "Jika Anda perhatikan dengan seksama, data pada baris ke-3 (index 2) pada fitur sepal length memiliki nilai 0.0. Hal ini menandakan adanya missing value pada data. Jalankan cell di bawah ini untuk mendapatkan semua data yang mengandung missing value. Pencarian data yang mengandung missing value dilakukan dengan tahapan sebagai berikut:\n",
    "\n",
    "\n",
    "1.   Membuat filter untuk mencari data dengan sepal_length = 0, sepal_width = 0, petal_length = 0, petal_width =0\n",
    "2.   Mencari data yang memenuhi kondisi1 **atau** kondisi2 **atau** kondisi3 **atau** kondisi4 menggunakan property [loc](https://pandas.pydata.org/pandas-docs/stable/reference/api/pandas.DataFrame.loc.html) pada dataframe\n",
    "\n"
   ]
  },
  {
   "cell_type": "code",
   "metadata": {
    "id": "rP3gGlgrlb-I",
    "outputId": "880d2abe-3e05-4311-ee28-040acea078ab",
    "colab": {
     "base_uri": "https://localhost:8080/",
     "height": 457
    },
    "ExecuteTime": {
     "end_time": "2024-03-14T15:41:26.771482200Z",
     "start_time": "2024-03-14T15:41:26.723385800Z"
    }
   },
   "source": [
    "kondisil = data['sepal_length']==0.0\n",
    "kondisi2 = data['sepal_width']==0.0\n",
    "kondisi3 = data['petal_length']==0.0\n",
    "kondisi4 = data['petal_width']==0.0\n",
    "data.loc[kondisil | kondisi2 | kondisi3 | kondisi4]"
   ],
   "execution_count": 4,
   "outputs": [
    {
     "data": {
      "text/plain": "     sepal_length  sepal_width  petal_length  petal_width          Species\n2             0.0          3.2           1.3          0.2      Iris-setosa\n11            0.0          3.4           1.6          0.2      Iris-setosa\n32            5.2          0.0           1.5          0.1      Iris-setosa\n47            4.6          3.2           0.0          0.2      Iris-setosa\n51            6.4          0.0           4.5          1.5  Iris-versicolor\n65            6.7          3.1           4.4          0.0  Iris-versicolor\n67            5.8          2.7           0.0          1.0  Iris-versicolor\n86            6.7          0.0           4.7          1.5  Iris-versicolor\n107           0.0          2.9           6.3          1.8   Iris-virginica\n112           6.8          3.0           0.0          2.1   Iris-virginica\n113           5.7          2.5           5.0          0.0   Iris-virginica\n139           6.9          3.1           5.4          0.0   Iris-virginica\n145           6.7          3.0           5.2          0.0   Iris-virginica",
      "text/html": "<div>\n<style scoped>\n    .dataframe tbody tr th:only-of-type {\n        vertical-align: middle;\n    }\n\n    .dataframe tbody tr th {\n        vertical-align: top;\n    }\n\n    .dataframe thead th {\n        text-align: right;\n    }\n</style>\n<table border=\"1\" class=\"dataframe\">\n  <thead>\n    <tr style=\"text-align: right;\">\n      <th></th>\n      <th>sepal_length</th>\n      <th>sepal_width</th>\n      <th>petal_length</th>\n      <th>petal_width</th>\n      <th>Species</th>\n    </tr>\n  </thead>\n  <tbody>\n    <tr>\n      <th>2</th>\n      <td>0.0</td>\n      <td>3.2</td>\n      <td>1.3</td>\n      <td>0.2</td>\n      <td>Iris-setosa</td>\n    </tr>\n    <tr>\n      <th>11</th>\n      <td>0.0</td>\n      <td>3.4</td>\n      <td>1.6</td>\n      <td>0.2</td>\n      <td>Iris-setosa</td>\n    </tr>\n    <tr>\n      <th>32</th>\n      <td>5.2</td>\n      <td>0.0</td>\n      <td>1.5</td>\n      <td>0.1</td>\n      <td>Iris-setosa</td>\n    </tr>\n    <tr>\n      <th>47</th>\n      <td>4.6</td>\n      <td>3.2</td>\n      <td>0.0</td>\n      <td>0.2</td>\n      <td>Iris-setosa</td>\n    </tr>\n    <tr>\n      <th>51</th>\n      <td>6.4</td>\n      <td>0.0</td>\n      <td>4.5</td>\n      <td>1.5</td>\n      <td>Iris-versicolor</td>\n    </tr>\n    <tr>\n      <th>65</th>\n      <td>6.7</td>\n      <td>3.1</td>\n      <td>4.4</td>\n      <td>0.0</td>\n      <td>Iris-versicolor</td>\n    </tr>\n    <tr>\n      <th>67</th>\n      <td>5.8</td>\n      <td>2.7</td>\n      <td>0.0</td>\n      <td>1.0</td>\n      <td>Iris-versicolor</td>\n    </tr>\n    <tr>\n      <th>86</th>\n      <td>6.7</td>\n      <td>0.0</td>\n      <td>4.7</td>\n      <td>1.5</td>\n      <td>Iris-versicolor</td>\n    </tr>\n    <tr>\n      <th>107</th>\n      <td>0.0</td>\n      <td>2.9</td>\n      <td>6.3</td>\n      <td>1.8</td>\n      <td>Iris-virginica</td>\n    </tr>\n    <tr>\n      <th>112</th>\n      <td>6.8</td>\n      <td>3.0</td>\n      <td>0.0</td>\n      <td>2.1</td>\n      <td>Iris-virginica</td>\n    </tr>\n    <tr>\n      <th>113</th>\n      <td>5.7</td>\n      <td>2.5</td>\n      <td>5.0</td>\n      <td>0.0</td>\n      <td>Iris-virginica</td>\n    </tr>\n    <tr>\n      <th>139</th>\n      <td>6.9</td>\n      <td>3.1</td>\n      <td>5.4</td>\n      <td>0.0</td>\n      <td>Iris-virginica</td>\n    </tr>\n    <tr>\n      <th>145</th>\n      <td>6.7</td>\n      <td>3.0</td>\n      <td>5.2</td>\n      <td>0.0</td>\n      <td>Iris-virginica</td>\n    </tr>\n  </tbody>\n</table>\n</div>"
     },
     "execution_count": 4,
     "metadata": {},
     "output_type": "execute_result"
    }
   ]
  },
  {
   "cell_type": "markdown",
   "metadata": {
    "id": "pQlIlPnMC047"
   },
   "source": [
    "Penanganan missing value pada Pandas akan lebih mudah apabila data yang hilang (bernilai 0.0) diganti dengan NaN (Not A Number). Gunakan properti **replace** pada dataframe untuk menggganti 0.0 menjadi NaN"
   ]
  },
  {
   "cell_type": "code",
   "metadata": {
    "id": "vMQqkH62CSoe",
    "ExecuteTime": {
     "end_time": "2024-03-14T15:41:27.633831700Z",
     "start_time": "2024-03-14T15:41:27.618398Z"
    }
   },
   "source": [
    "data = data.replace(0.0,np.NaN)"
   ],
   "execution_count": 5,
   "outputs": []
  },
  {
   "cell_type": "markdown",
   "metadata": {
    "id": "-xQtglGOyCyD"
   },
   "source": [
    "Terdapat beberapa cara untuk mengatasi permasalahan missing value pada data. Salah satu cara yang sederhana adalah dengan mengganti nilai NaN pada suatu fitur dengan rata-rata nilai fitur tersebut pada data lain yang bernilai bukan Nan. Perhatikan bahwa Anda harus mengganti nilai NaN dengan rata-rata data lain yang memiliki kategori (species) yang sama.\n",
    "\n",
    "Fungsi-fungsi pada Pandas yang dapat Anda manfaatkan:\n",
    "\n",
    "\n",
    "1.   **transform** untuk mengaplikasikan fungsi tertentu pada dataframe, pada permasalahan ini fungsi yang digunakan adalah fungsi **mean**\n",
    "2.   **groupby** untuk mengelompokkan dataframe berdasarkan nilai kolom tertentu, pada permasalahan ini kolom yang digunakan adalah **species**\n",
    "3. **fillna** untuk mengganti nilai NaN dengan nilai yang telah ditentukan\n",
    "\n",
    "\n",
    "\n",
    "\n",
    "Buatlah fungsi bernama **imputasi** yang melakukan tahapan berikut:\n",
    "\n",
    "\n",
    "1.   Menghitung rata-rata masing-masing kolom berdasarkan kelasnya\n",
    "2.   Mengisi kolom yang berisi NaN dengan rata-rata kelas yang sesuai\n",
    "\n",
    "\n"
   ]
  },
  {
   "cell_type": "code",
   "metadata": {
    "id": "n-cR9J2EMOMh",
    "ExecuteTime": {
     "end_time": "2024-03-14T15:41:28.390639400Z",
     "start_time": "2024-03-14T15:41:28.377431800Z"
    }
   },
   "source": [
    "def imputasi (df_input):\n",
    "  list_columns= df_input.columns #mendapatkan daftar kolom pada dataframe\n",
    "  class_column=list_columns[-1] #kolom terakhir merupakan kolom kelas\n",
    "  for column in list_columns[:-1]: \n",
    "    df_input[column] = df_input[column].fillna(df_input.groupby(class_column) [column].transform('mean')) # Penggantian nilai NaN dilakukan per kolom\n",
    "  return df_input"
   ],
   "execution_count": 6,
   "outputs": []
  },
  {
   "cell_type": "markdown",
   "metadata": {
    "id": "fd7tcpRYi8Wx"
   },
   "source": [
    "Buatlah sebuah dataframe baru bernama **data_imputasi** yang berisi dataset dengan nilai NaN yang sudah diganti dengan cara memanggil fungsi **imputasi**."
   ]
  },
  {
   "cell_type": "code",
   "metadata": {
    "id": "DQgmHM96S1Vd",
    "ExecuteTime": {
     "end_time": "2024-03-14T15:41:29.292683300Z",
     "start_time": "2024-03-14T15:41:29.284754800Z"
    }
   },
   "source": [
    "data_imputasi = imputasi(data)"
   ],
   "execution_count": 7,
   "outputs": []
  },
  {
   "cell_type": "markdown",
   "metadata": {
    "id": "Wxccxn1Njczp"
   },
   "source": [
    "Cek apakah masih terdapat nilai NaN pada dataframe."
   ]
  },
  {
   "cell_type": "code",
   "metadata": {
    "id": "eQPaaaMP9sIA",
    "ExecuteTime": {
     "end_time": "2024-03-14T15:41:30.208207700Z",
     "start_time": "2024-03-14T15:41:30.179957800Z"
    }
   },
   "source": [
    "data_imputasi.isnull().values.any()"
   ],
   "execution_count": 8,
   "outputs": [
    {
     "data": {
      "text/plain": "False"
     },
     "execution_count": 8,
     "metadata": {},
     "output_type": "execute_result"
    }
   ]
  },
  {
   "cell_type": "markdown",
   "metadata": {
    "id": "p9VL92u7jskP"
   },
   "source": [
    "### 3) Normalisasi MinMax\n",
    "Normalisasi bertujuan menyamakan rentang nilai pada setiap fitur. Beberapa metode pembelajaran mesin memiliki kinerja yang buruk apabila rentang nilai tiap variabel berbeda jauh.\n",
    "\n",
    "Sebelum melakukan normalisasi, cek terlebih dahulu rentang (nilai max - nilai min) pada masing masing fitur"
   ]
  },
  {
   "cell_type": "code",
   "metadata": {
    "id": "R9FXu_IQl8Ig",
    "ExecuteTime": {
     "end_time": "2024-03-14T15:41:30.961447800Z",
     "start_time": "2024-03-14T15:41:30.949771Z"
    }
   },
   "source": [
    "def cetak_rentang(df_input):\n",
    "    list_fitur = df_input.columns[:-1]\n",
    "    for fitur in list_fitur:\n",
    "      max = df_input[fitur].max()\n",
    "      min = df_input[fitur].min()\n",
    "      print(\"Rentang fitur\",fitur,\"adalah\",max,min)"
   ],
   "execution_count": 9,
   "outputs": []
  },
  {
   "cell_type": "code",
   "metadata": {
    "id": "snFnC2rxjmIa",
    "ExecuteTime": {
     "end_time": "2024-03-14T15:41:31.343407500Z",
     "start_time": "2024-03-14T15:41:31.330707600Z"
    }
   },
   "source": [
    "cetak_rentang(data_imputasi)"
   ],
   "execution_count": 10,
   "outputs": [
    {
     "name": "stdout",
     "output_type": "stream",
     "text": [
      "Rentang fitur sepal_length adalah 7.9 4.3\n",
      "Rentang fitur sepal_width adalah 4.4 2.0\n",
      "Rentang fitur petal_length adalah 6.9 1.0\n",
      "Rentang fitur petal_width adalah 2.5 0.1\n"
     ]
    }
   ]
  },
  {
   "cell_type": "markdown",
   "metadata": {
    "id": "JpDTiUpElTRN"
   },
   "source": [
    "Terlihat bahwa masing-masing fitur memiliki rentang yang berbeda, meskipun tidak terlalu signifikan. Pada praktikum ini Anda akan mengimplementasikan normalisasi MinMax untuk menyamakan rentang setiap fitur menjadi satu (1). Persamaan dari fungsi normalisasi MinMax adalah sebagai berikut:\n",
    "\n",
    "$x'=\\frac{x-min(x)}{max(x)-min(x)}$\n",
    "\n",
    "dimana $x'$ merupakan nilai ternormalisasi, $x$ adalah nilai asal, $min(x)$ merupakan nilai minimum pada suatu fitur, dan $max(x)$ merupakan nilai maksimum pada suatu fitur.\n",
    "\n",
    "Implementasikan metode normalisasi MinMax pada fungsi bernama **minmax**.\n"
   ]
  },
  {
   "cell_type": "code",
   "metadata": {
    "id": "tQmEe-Qckfnb",
    "ExecuteTime": {
     "end_time": "2024-03-14T15:41:32.087620200Z",
     "start_time": "2024-03-14T15:41:32.075750100Z"
    }
   },
   "source": [
    "def minmax(df_input):\n",
    "    list_fitur = df_input.columns[:-1]\n",
    "    for fitur in list_fitur:\n",
    "      max = df_input[fitur].max()\n",
    "      min = df_input[fitur].min()\n",
    "      df_input[fitur] = (df_input[fitur]-min)/(max-min)\n",
    "    return df_input\n",
    "    "
   ],
   "execution_count": 11,
   "outputs": []
  },
  {
   "cell_type": "markdown",
   "metadata": {
    "id": "Lj32Smx6n8LU"
   },
   "source": [
    "Buatlah sebuah dataframe baru bernama **data_normal** yang berisi hasil dari metode minmax dengan input **data_imputasi**"
   ]
  },
  {
   "cell_type": "code",
   "metadata": {
    "id": "Ow1QWldFnvBu",
    "ExecuteTime": {
     "end_time": "2024-03-14T15:41:32.846452500Z",
     "start_time": "2024-03-14T15:41:32.823771300Z"
    }
   },
   "source": [
    "data_normal = minmax(data_imputasi)"
   ],
   "execution_count": 12,
   "outputs": []
  },
  {
   "cell_type": "markdown",
   "metadata": {
    "id": "4OHT17WfoGou"
   },
   "source": [
    "Cek 5 baris pertama **data_normal**"
   ]
  },
  {
   "cell_type": "code",
   "metadata": {
    "id": "fbbNpN9enzYI",
    "ExecuteTime": {
     "end_time": "2024-03-14T15:41:33.791660600Z",
     "start_time": "2024-03-14T15:41:33.706912600Z"
    }
   },
   "source": [
    "data_normal.head(5)"
   ],
   "execution_count": 13,
   "outputs": [
    {
     "data": {
      "text/plain": "   sepal_length  sepal_width  petal_length  petal_width      Species\n0      0.222222     0.625000      0.067797     0.041667  Iris-setosa\n1      0.166667     0.416667      0.067797     0.041667  Iris-setosa\n2      0.199074     0.500000      0.050847     0.041667  Iris-setosa\n3      0.083333     0.458333      0.084746     0.041667  Iris-setosa\n4      0.194444     0.666667      0.067797     0.041667  Iris-setosa",
      "text/html": "<div>\n<style scoped>\n    .dataframe tbody tr th:only-of-type {\n        vertical-align: middle;\n    }\n\n    .dataframe tbody tr th {\n        vertical-align: top;\n    }\n\n    .dataframe thead th {\n        text-align: right;\n    }\n</style>\n<table border=\"1\" class=\"dataframe\">\n  <thead>\n    <tr style=\"text-align: right;\">\n      <th></th>\n      <th>sepal_length</th>\n      <th>sepal_width</th>\n      <th>petal_length</th>\n      <th>petal_width</th>\n      <th>Species</th>\n    </tr>\n  </thead>\n  <tbody>\n    <tr>\n      <th>0</th>\n      <td>0.222222</td>\n      <td>0.625000</td>\n      <td>0.067797</td>\n      <td>0.041667</td>\n      <td>Iris-setosa</td>\n    </tr>\n    <tr>\n      <th>1</th>\n      <td>0.166667</td>\n      <td>0.416667</td>\n      <td>0.067797</td>\n      <td>0.041667</td>\n      <td>Iris-setosa</td>\n    </tr>\n    <tr>\n      <th>2</th>\n      <td>0.199074</td>\n      <td>0.500000</td>\n      <td>0.050847</td>\n      <td>0.041667</td>\n      <td>Iris-setosa</td>\n    </tr>\n    <tr>\n      <th>3</th>\n      <td>0.083333</td>\n      <td>0.458333</td>\n      <td>0.084746</td>\n      <td>0.041667</td>\n      <td>Iris-setosa</td>\n    </tr>\n    <tr>\n      <th>4</th>\n      <td>0.194444</td>\n      <td>0.666667</td>\n      <td>0.067797</td>\n      <td>0.041667</td>\n      <td>Iris-setosa</td>\n    </tr>\n  </tbody>\n</table>\n</div>"
     },
     "execution_count": 13,
     "metadata": {},
     "output_type": "execute_result"
    }
   ]
  },
  {
   "cell_type": "markdown",
   "metadata": {
    "id": "HWU0cCGBoOLR"
   },
   "source": [
    "Tampilkan rentang masing-masing fitur menggunakan fungsi **cetak_rentang** yang telah dibuat"
   ]
  },
  {
   "cell_type": "code",
   "metadata": {
    "id": "qQay3cQ5n1rk",
    "ExecuteTime": {
     "end_time": "2024-03-14T15:41:34.688600300Z",
     "start_time": "2024-03-14T15:41:34.677275900Z"
    }
   },
   "source": [
    "cetak_rentang(data_normal)"
   ],
   "execution_count": 14,
   "outputs": [
    {
     "name": "stdout",
     "output_type": "stream",
     "text": [
      "Rentang fitur sepal_length adalah 1.0 0.0\n",
      "Rentang fitur sepal_width adalah 1.0 0.0\n",
      "Rentang fitur petal_length adalah 1.0 0.0\n",
      "Rentang fitur petal_width adalah 1.0 0.0\n"
     ]
    }
   ]
  },
  {
   "cell_type": "markdown",
   "metadata": {
    "id": "7br3-zmsp5Dx"
   },
   "source": [
    "## TUGAS\n",
    "1. Implementasikan metode normalisasi Z-score dengan cara membuat fungsi bernama **zscore**.\n",
    "2. Normalisasikan dataframe **data_imputasi** menggunakan fungsi **zscore**. Simpan hasilnya pada dataframe bernama **data_zscore**.\n",
    "3. Jelaskan perbedaan hasil normalisasi **MinMax** dan **ZScore**. Petunjuk : cek nilai rentang, rata-rata dan standar deviasi dari **data_zscore**.\n"
   ]
  },
  {
   "cell_type": "code",
   "metadata": {
    "id": "jQwH6j-0n4-w",
    "ExecuteTime": {
     "end_time": "2024-03-14T15:41:35.764639900Z",
     "start_time": "2024-03-14T15:41:35.752957Z"
    }
   },
   "source": [
    "def zscore(df_input):\n",
    "  for column in df_input.columns[:-1]:\n",
    "        mean = df_input[column].mean()\n",
    "        std = df_input[column].std()\n",
    "        df_input[column] = (df_input[column] - mean) / std\n",
    "  return df_input"
   ],
   "execution_count": 15,
   "outputs": []
  },
  {
   "cell_type": "code",
   "metadata": {
    "id": "CRXju1M1mTlJ",
    "ExecuteTime": {
     "end_time": "2024-03-14T15:41:36.457937300Z",
     "start_time": "2024-03-14T15:41:36.439964Z"
    }
   },
   "source": [
    "data_zscore = zscore(data_imputasi)"
   ],
   "execution_count": 16,
   "outputs": []
  },
  {
   "cell_type": "code",
   "metadata": {
    "id": "vtsHB8VEmhqu",
    "ExecuteTime": {
     "end_time": "2024-03-14T15:41:37.164599Z",
     "start_time": "2024-03-14T15:41:37.145555800Z"
    }
   },
   "source": [
    "data_zscore.head()"
   ],
   "execution_count": 17,
   "outputs": [
    {
     "data": {
      "text/plain": "   sepal_length  sepal_width  petal_length  petal_width      Species\n0     -0.907825     1.053430     -1.336763    -1.312509  Iris-setosa\n1     -1.152507    -0.110540     -1.336763    -1.312509  Iris-setosa\n2     -1.009776     0.355048     -1.393408    -1.312509  Iris-setosa\n3     -1.519530     0.122254     -1.280117    -1.312509  Iris-setosa\n4     -1.030166     1.286224     -1.336763    -1.312509  Iris-setosa",
      "text/html": "<div>\n<style scoped>\n    .dataframe tbody tr th:only-of-type {\n        vertical-align: middle;\n    }\n\n    .dataframe tbody tr th {\n        vertical-align: top;\n    }\n\n    .dataframe thead th {\n        text-align: right;\n    }\n</style>\n<table border=\"1\" class=\"dataframe\">\n  <thead>\n    <tr style=\"text-align: right;\">\n      <th></th>\n      <th>sepal_length</th>\n      <th>sepal_width</th>\n      <th>petal_length</th>\n      <th>petal_width</th>\n      <th>Species</th>\n    </tr>\n  </thead>\n  <tbody>\n    <tr>\n      <th>0</th>\n      <td>-0.907825</td>\n      <td>1.053430</td>\n      <td>-1.336763</td>\n      <td>-1.312509</td>\n      <td>Iris-setosa</td>\n    </tr>\n    <tr>\n      <th>1</th>\n      <td>-1.152507</td>\n      <td>-0.110540</td>\n      <td>-1.336763</td>\n      <td>-1.312509</td>\n      <td>Iris-setosa</td>\n    </tr>\n    <tr>\n      <th>2</th>\n      <td>-1.009776</td>\n      <td>0.355048</td>\n      <td>-1.393408</td>\n      <td>-1.312509</td>\n      <td>Iris-setosa</td>\n    </tr>\n    <tr>\n      <th>3</th>\n      <td>-1.519530</td>\n      <td>0.122254</td>\n      <td>-1.280117</td>\n      <td>-1.312509</td>\n      <td>Iris-setosa</td>\n    </tr>\n    <tr>\n      <th>4</th>\n      <td>-1.030166</td>\n      <td>1.286224</td>\n      <td>-1.336763</td>\n      <td>-1.312509</td>\n      <td>Iris-setosa</td>\n    </tr>\n  </tbody>\n</table>\n</div>"
     },
     "execution_count": 17,
     "metadata": {},
     "output_type": "execute_result"
    }
   ]
  },
  {
   "cell_type": "markdown",
   "metadata": {
    "id": "wIR0eFqQoob8"
   },
   "source": [
    "Tuliskan jawaban pertanyaan nomor 3 **di sini**"
   ]
  },
  {
   "cell_type": "markdown",
   "source": [
    "Perbedaan utama antara keduanya adalah:\n",
    "\n",
    "Skala Hasil: Normalisasi Min-Max menghasilkan nilai-nilai dalam rentang tertentu (biasanya 0 hingga 1), sementara Normalisasi Z-Score menghasilkan nilai-nilai dengan mean 0 dan standar deviasi 1.\n",
    "Rentang Nilai: Normalisasi Min-Max mempertahankan distribusi asli dari data, hanya mengubah skala nilai, sedangkan Normalisasi Z-Score dapat mempengaruhi distribusi data dengan membuatnya terpusat pada mean dan memiliki varians sebesar 1.\n",
    "Pemilihan antara normalisasi Min-Max dan Normalisasi Z-Score tergantung pada kebutuhan spesifik dalam analisis data. Jika Anda ingin mempertahankan interpretasi semula dari data, normalisasi Min-Max mungkin lebih cocok. Namun, jika Anda ingin menekankan perbedaan relatif antara nilai-nilai dan meminimalkan dampak outlier, normalisasi Z-Score mungkin lebih disukai.\n",
    "\n",
    "\n",
    "\n",
    "\n",
    "\n",
    "\n"
   ],
   "metadata": {
    "collapsed": false
   }
  },
  {
   "cell_type": "code",
   "metadata": {
    "id": "hNLI-K6YnVvM",
    "ExecuteTime": {
     "end_time": "2024-03-14T15:41:39.671510400Z",
     "start_time": "2024-03-14T15:41:39.663026400Z"
    }
   },
   "source": [
    "print(\"Rentang MinMax:\")\n",
    "cetak_rentang(data_normal)\n",
    "print(\"\\nRentang ZScore:\")\n",
    "cetak_rentang(data_zscore)\n"
   ],
   "execution_count": 18,
   "outputs": [
    {
     "name": "stdout",
     "output_type": "stream",
     "text": [
      "Rentang MinMax:\n",
      "Rentang fitur sepal_length adalah 2.517721194266612 -1.8865528774926283\n",
      "Rentang fitur sepal_width adalah 3.1485765409407946 -2.4384807713020926\n",
      "Rentang fitur petal_length adalah 1.778753714774106 -1.5633457150863401\n",
      "Rentang fitur petal_width adalah 1.7167239391451317 -1.4442147862035932\n",
      "\n",
      "Rentang ZScore:\n",
      "Rentang fitur sepal_length adalah 2.517721194266612 -1.8865528774926283\n",
      "Rentang fitur sepal_width adalah 3.1485765409407946 -2.4384807713020926\n",
      "Rentang fitur petal_length adalah 1.778753714774106 -1.5633457150863401\n",
      "Rentang fitur petal_width adalah 1.7167239391451317 -1.4442147862035932\n"
     ]
    }
   ]
  },
  {
   "cell_type": "markdown",
   "source": [],
   "metadata": {
    "collapsed": false
   }
  },
  {
   "cell_type": "code",
   "outputs": [],
   "source": [
    "def cetak_mean(df_input):\n",
    "  feature_list = df_input.columns[:-1]\n",
    "  for feature in feature_list:\n",
    "    mean = df_input[feature].mean()\n",
    "    print(\"Rata-rata fitur\",feature,\"adalah \", mean)"
   ],
   "metadata": {
    "collapsed": false,
    "ExecuteTime": {
     "end_time": "2024-03-14T15:45:49.528976200Z",
     "start_time": "2024-03-14T15:45:49.505942300Z"
    }
   },
   "execution_count": 19
  },
  {
   "cell_type": "code",
   "outputs": [
    {
     "name": "stdout",
     "output_type": "stream",
     "text": [
      "Rentang MinMax:\n",
      "Rata-rata fitur sepal_length adalah  2.3684757858670006e-16\n",
      "Rata-rata fitur sepal_width adalah  2.842170943040401e-16\n",
      "Rata-rata fitur petal_length adalah  1.4210854715202004e-16\n",
      "Rata-rata fitur petal_width adalah  4.7369515717340015e-17\n",
      "\n",
      "Rentang ZScore:\n",
      "Rata-rata fitur sepal_length adalah  2.3684757858670006e-16\n",
      "Rata-rata fitur sepal_width adalah  2.842170943040401e-16\n",
      "Rata-rata fitur petal_length adalah  1.4210854715202004e-16\n",
      "Rata-rata fitur petal_width adalah  4.7369515717340015e-17\n"
     ]
    }
   ],
   "source": [
    "print(\"Rentang MinMax:\")\n",
    "cetak_mean(data_normal)\n",
    "print(\"\\nRentang ZScore:\")\n",
    "cetak_mean(data_zscore)"
   ],
   "metadata": {
    "collapsed": false,
    "ExecuteTime": {
     "end_time": "2024-03-14T15:46:07.901496500Z",
     "start_time": "2024-03-14T15:46:07.871995300Z"
    }
   },
   "execution_count": 20
  },
  {
   "cell_type": "code",
   "outputs": [],
   "source": [
    "def cetak_std(df_input):\n",
    "  feature_list = df_input.columns[:-1]\n",
    "  for feature in feature_list:\n",
    "    std = df_input[feature].std()\n",
    "    print(\"Standar deviasi fitur\",feature,\"adalah \", std)"
   ],
   "metadata": {
    "collapsed": false,
    "ExecuteTime": {
     "end_time": "2024-03-14T15:46:31.322380800Z",
     "start_time": "2024-03-14T15:46:31.304686300Z"
    }
   },
   "execution_count": 21
  },
  {
   "cell_type": "code",
   "outputs": [
    {
     "name": "stdout",
     "output_type": "stream",
     "text": [
      "Rentang MinMax:\n",
      "Standar deviasi fitur sepal_length adalah  1.0\n",
      "Standar deviasi fitur sepal_width adalah  1.0\n",
      "Standar deviasi fitur petal_length adalah  1.0\n",
      "Standar deviasi fitur petal_width adalah  1.0\n",
      "\n",
      "Rentang ZScore:\n",
      "Standar deviasi fitur sepal_length adalah  1.0\n",
      "Standar deviasi fitur sepal_width adalah  1.0\n",
      "Standar deviasi fitur petal_length adalah  1.0\n",
      "Standar deviasi fitur petal_width adalah  1.0\n"
     ]
    }
   ],
   "source": [
    "print(\"Rentang MinMax:\")\n",
    "cetak_std(data_normal)\n",
    "print(\"\\nRentang ZScore:\")\n",
    "cetak_std(data_zscore)"
   ],
   "metadata": {
    "collapsed": false,
    "ExecuteTime": {
     "end_time": "2024-03-14T15:47:04.484409300Z",
     "start_time": "2024-03-14T15:47:04.448515900Z"
    }
   },
   "execution_count": 22
  },
  {
   "cell_type": "code",
   "outputs": [],
   "source": [],
   "metadata": {
    "collapsed": false
   }
  }
 ]
}
